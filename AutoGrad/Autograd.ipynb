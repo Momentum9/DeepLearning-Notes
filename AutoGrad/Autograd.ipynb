{
 "cells": [
  {
   "cell_type": "markdown",
   "metadata": {},
   "source": [
    "# 自动求导机制 Autograd"
   ]
  },
  {
   "cell_type": "code",
   "execution_count": 69,
   "metadata": {},
   "outputs": [
    {
     "data": {
      "text/plain": [
       "(tensor([[0.7683, 0.4898, 0.1517],\n",
       "         [0.5925, 0.3149, 0.3559]], requires_grad=True),\n",
       " tensor([[0.7724, 0.8816, 0.1016],\n",
       "         [0.5211, 0.3003, 0.4774]], requires_grad=True))"
      ]
     },
     "execution_count": 69,
     "metadata": {},
     "output_type": "execute_result"
    }
   ],
   "source": [
    "# 张量创建时，通过设置 requires_grad 标识为Ture告诉Pytorch需要对该张量进行自动求导\n",
    "# PyTorch会记录该张量的每一步操作历史并自动计算\n",
    "import torch\n",
    "x = torch.rand(2,3, requires_grad=True)\n",
    "y = torch.rand(2,3, requires_grad=True)\n",
    "x,y"
   ]
  },
  {
   "cell_type": "code",
   "execution_count": 75,
   "metadata": {},
   "outputs": [
    {
     "data": {
      "text/plain": [
       "tensor(5.7276, grad_fn=<SumBackward0>)"
      ]
     },
     "execution_count": 75,
     "metadata": {},
     "output_type": "execute_result"
    }
   ],
   "source": [
    "z = torch.sum(x+y) # x+y是个2*3的矩阵 sum之后就是x11+y11+x12+y12+...+x23+y23 那么对这六个xi求偏导 必然全为1\n",
    "z"
   ]
  },
  {
   "cell_type": "markdown",
   "metadata": {},
   "source": [
    "Tensor进行操作后，grad_fn已经被赋予了一个新的函数"
   ]
  },
  {
   "cell_type": "markdown",
   "metadata": {},
   "source": [
    "PyTorch会自动追踪记录与张量的所有操作，计算完成后调用.backward()方法自动计算梯度并且将结果保存到grad属性中 \\\\"
   ]
  },
  {
   "cell_type": "markdown",
   "metadata": {},
   "source": [
    "## 1. 标量的反向传播"
   ]
  },
  {
   "cell_type": "markdown",
   "metadata": {},
   "source": [
    "如果Tensor类表示的是一个标量scaler,则不需要为backward()指定任何参数;"
   ]
  },
  {
   "cell_type": "code",
   "execution_count": 76,
   "metadata": {},
   "outputs": [
    {
     "data": {
      "text/plain": [
       "(tensor([[2.5366, 1.9796, 1.3034],\n",
       "         [2.1850, 1.6297, 1.7119]]),\n",
       " tensor([[2.7897, 3.3316, 1.0310],\n",
       "         [1.8147, 1.2706, 1.6837]]))"
      ]
     },
     "execution_count": 76,
     "metadata": {},
     "output_type": "execute_result"
    }
   ],
   "source": [
    "z.backward() # 自动计算梯度 并将计算结果保存到grad属性中\n",
    "x.grad, y.grad # x.grad就是指z对x的偏导"
   ]
  },
  {
   "cell_type": "markdown",
   "metadata": {},
   "source": [
    "## 2. 非标量的反向传播"
   ]
  },
  {
   "cell_type": "markdown",
   "metadata": {},
   "source": [
    "但是如果Tensor有更多的元素，是个向量或矩阵，则需要指定一个gradient参数，它是形状匹配的张量"
   ]
  },
  {
   "cell_type": "code",
   "execution_count": 77,
   "metadata": {},
   "outputs": [
    {
     "data": {
      "text/plain": [
       "(tensor([[0.7683, 0.4898, 0.1517],\n",
       "         [0.5925, 0.3149, 0.3559]], requires_grad=True),\n",
       " tensor([[0.7724, 0.8816, 0.1016],\n",
       "         [0.5211, 0.3003, 0.4774]], requires_grad=True))"
      ]
     },
     "execution_count": 77,
     "metadata": {},
     "output_type": "execute_result"
    }
   ],
   "source": [
    "# 在默认情况下，PyTorch会累积梯度，我们需要清除之前的值\n",
    "x.grad.zero_()\n",
    "y.grad.zero_()\n",
    "z = x**2 + y**3\n",
    "x,y"
   ]
  },
  {
   "cell_type": "code",
   "execution_count": 78,
   "metadata": {},
   "outputs": [
    {
     "data": {
      "text/plain": [
       "(tensor([[1.5366, 0.9796, 0.3034],\n",
       "         [1.1850, 0.6297, 0.7119]]),\n",
       " tensor([[1.7897, 2.3316, 0.0310],\n",
       "         [0.8147, 0.2706, 0.6837]]))"
      ]
     },
     "execution_count": 78,
     "metadata": {},
     "output_type": "execute_result"
    }
   ],
   "source": [
    "# 我们的返回值不是一个标量，所以需要输入一个大小相同的张量作为参数，这里我们用ones_like函数根据x生成一个张量\n",
    "z.backward(torch.ones_like(x)) # z.sum().backward()同效\n",
    "x.grad, y.grad # 即2*x 与 3y^2"
   ]
  },
  {
   "cell_type": "markdown",
   "metadata": {},
   "source": [
    "通过.is_leaf判断变量时创建变量还是结果变量"
   ]
  },
  {
   "cell_type": "code",
   "execution_count": 15,
   "metadata": {},
   "outputs": [
    {
     "name": "stdout",
     "output_type": "stream",
     "text": [
      "x.is_leaf = True\n",
      "y.is_leaf = True\n",
      "z.is_leaf = False\n"
     ]
    }
   ],
   "source": [
    "print('x.is_leaf =', x.is_leaf) # 创建变量 手动创建； 是叶子节点\n",
    "print('y.is_leaf =', y.is_leaf)\n",
    "print('z.is_leaf =', z.is_leaf) # 结果变量 运算得到"
   ]
  },
  {
   "cell_type": "code",
   "execution_count": 16,
   "metadata": {},
   "outputs": [
    {
     "data": {
      "text/plain": [
       "((<PowBackward0 at 0x1a78e0bca00>, 0), (<PowBackward0 at 0x1a78e0bcac0>, 0))"
      ]
     },
     "execution_count": 16,
     "metadata": {},
     "output_type": "execute_result"
    }
   ],
   "source": [
    "z.grad_fn.next_functions"
   ]
  }
 ],
 "metadata": {
  "kernelspec": {
   "display_name": "Python 3.10.6 64-bit",
   "language": "python",
   "name": "python3"
  },
  "language_info": {
   "codemirror_mode": {
    "name": "ipython",
    "version": 3
   },
   "file_extension": ".py",
   "mimetype": "text/x-python",
   "name": "python",
   "nbconvert_exporter": "python",
   "pygments_lexer": "ipython3",
   "version": "3.10.6"
  },
  "vscode": {
   "interpreter": {
    "hash": "615f2bc64d834d96908d844a686e951aa7993850d1defc534e0755cfeae37339"
   }
  }
 },
 "nbformat": 4,
 "nbformat_minor": 2
}
