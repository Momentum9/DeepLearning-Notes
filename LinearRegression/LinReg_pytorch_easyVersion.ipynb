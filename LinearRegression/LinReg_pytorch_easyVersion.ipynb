{
 "cells": [
  {
   "cell_type": "markdown",
   "metadata": {},
   "source": [
    "## 通过深度学习框架简洁地实现线性回归模型"
   ]
  },
  {
   "cell_type": "code",
   "execution_count": 90,
   "metadata": {},
   "outputs": [],
   "source": [
    "%matplotlib inline\n",
    "import numpy as np\n",
    "import torch\n",
    "from torch.utils import data "
   ]
  },
  {
   "cell_type": "markdown",
   "metadata": {},
   "source": [
    "1.先导入linReg_pytorch文件中已实现(也可从d2l库中导入，但我安装不上，放弃了)"
   ]
  },
  {
   "cell_type": "code",
   "execution_count": 91,
   "metadata": {},
   "outputs": [],
   "source": [
    "def synthetic_data(w, b, num_examples): # 人造数据集\n",
    "    X = torch.normal(0, 1, (num_examples, len(w))) # 均值为0方差为1的服从正态分布的随机数;\n",
    "    # 尺寸为 num_examples行 len(w)列; (1000,2)\n",
    "    y = torch.matmul(X,w) + b # (1000,2) * (2,1) + (1)\n",
    "    y += torch.normal(0, 0.01, y.shape) # 添加噪声\n",
    "\n",
    "    return X, y.reshape((-1,1)) # 将y做成一个列向量(1000,1)返回"
   ]
  },
  {
   "cell_type": "code",
   "execution_count": 92,
   "metadata": {},
   "outputs": [],
   "source": [
    "true_w = torch.tensor([2,-3.4])\n",
    "true_b = 4.2\n",
    "features, labels = synthetic_data(true_w, true_b, 1000) # 生成数据"
   ]
  },
  {
   "cell_type": "markdown",
   "metadata": {},
   "source": [
    "2.利用torch自动创建生成小批量数据"
   ]
  },
  {
   "cell_type": "code",
   "execution_count": 93,
   "metadata": {},
   "outputs": [
    {
     "name": "stdout",
     "output_type": "stream",
     "text": [
      "tensor([[-0.2154, -0.7530],\n",
      "        [ 0.0838, -1.3488],\n",
      "        [ 0.9086,  1.0373],\n",
      "        [ 0.6088,  1.1608],\n",
      "        [ 0.1283, -0.4211],\n",
      "        [ 1.0195, -1.3560],\n",
      "        [-1.7467,  0.6025],\n",
      "        [ 1.2381, -0.5618],\n",
      "        [ 0.1635, -0.5379],\n",
      "        [-0.1785, -0.8679]]) \n",
      " tensor([[ 6.3234],\n",
      "        [ 8.9543],\n",
      "        [ 2.4828],\n",
      "        [ 1.4773],\n",
      "        [ 5.8938],\n",
      "        [10.8498],\n",
      "        [-1.3516],\n",
      "        [ 8.5833],\n",
      "        [ 6.3558],\n",
      "        [ 6.8122]])\n"
     ]
    }
   ],
   "source": [
    "def load_array(data_arrays, batch_size, is_train=True):\n",
    "    # 构造一个PyTorch数据迭代器\n",
    "    dataset = data.TensorDataset(*data_arrays) # 拿到数据集 *将tuple拆包\n",
    "    return data.DataLoader(dataset, batch_size, shuffle=is_train) # 每次从中随机挑选batch_size个样本\n",
    "    # TensorDataset将输入的两类数据一一对应； DataLoader将两类数据重新排序\n",
    "\n",
    "batch_size = 10\n",
    "data_iter = load_array((features, labels), batch_size) # 此处直接调用torch.utils中的data库，生成类似迭代器\n",
    "# type(data_iter) # torch.utils.data.dataloader.DataLoader\n",
    "# next(iter(data_iter)) # 转换为Python的可迭代对象;并输出一个\n",
    "for X, y in data_iter:\n",
    "    print(X,'\\n', y)\n",
    "    break"
   ]
  },
  {
   "cell_type": "markdown",
   "metadata": {},
   "source": [
    "3. 定义模型"
   ]
  },
  {
   "cell_type": "code",
   "execution_count": 94,
   "metadata": {},
   "outputs": [],
   "source": [
    "from torch import nn # neural network 定义了大量的层\n",
    "\n",
    "net = nn.Sequential(nn.Linear(2,1)) # 用Linear层(线性层/全连接层)；输入维度2 输出维度1\n",
    "# 然后将Linear层放到Sequential容器中，该容器理解为List of layers，将层按序放在一起"
   ]
  },
  {
   "cell_type": "markdown",
   "metadata": {},
   "source": [
    "4. 定义初始化模型参数"
   ]
  },
  {
   "cell_type": "code",
   "execution_count": 95,
   "metadata": {},
   "outputs": [
    {
     "data": {
      "text/plain": [
       "tensor([0.])"
      ]
     },
     "execution_count": 95,
     "metadata": {},
     "output_type": "execute_result"
    }
   ],
   "source": [
    "# net[0] # net[0]=Linear(in_features=2, out_features=1, bias=True)\n",
    "# net[0].bias是张量b，net[0].weight是张量w\n",
    "net[0].weight.data.normal_(0,0.01) # 初始化\n",
    "net[0].bias.data.fill_(0) # 偏差设为0"
   ]
  },
  {
   "cell_type": "markdown",
   "metadata": {},
   "source": [
    "5. 使用内置的均方误差MSELoss"
   ]
  },
  {
   "cell_type": "code",
   "execution_count": 96,
   "metadata": {},
   "outputs": [],
   "source": [
    "loss = nn.MSELoss()"
   ]
  },
  {
   "cell_type": "markdown",
   "metadata": {},
   "source": [
    "6. 使用内置的SGD"
   ]
  },
  {
   "cell_type": "code",
   "execution_count": 97,
   "metadata": {},
   "outputs": [],
   "source": [
    "trainer = torch.optim.SGD(net.parameters(), lr=0.03) # net.parameters()是个generator包含所有的参数w和b"
   ]
  },
  {
   "cell_type": "markdown",
   "metadata": {},
   "source": [
    "7. 训练过程"
   ]
  },
  {
   "cell_type": "code",
   "execution_count": 98,
   "metadata": {},
   "outputs": [
    {
     "name": "stdout",
     "output_type": "stream",
     "text": [
      "epoch 1, train_loss 0.000192\n",
      "epoch 2, train_loss 0.000106\n",
      "epoch 3, train_loss 0.000106\n"
     ]
    }
   ],
   "source": [
    "num_epochs = 3\n",
    "for epoch in range(num_epochs):\n",
    "    for X, y in data_iter:\n",
    "        l = loss(net(X), y) # 如此优雅？？ net自带参数w和b\n",
    "        trainer.zero_grad() # 先清零优化器的梯度\n",
    "        l.backward() # pytorch自动进行了sum\n",
    "        trainer.step() # 更新模型；优雅\n",
    "    l = loss(net(features), labels)\n",
    "    print(f'epoch {epoch+1}, train_loss {l:f}')"
   ]
  },
  {
   "cell_type": "code",
   "execution_count": 102,
   "metadata": {},
   "outputs": [
    {
     "name": "stdout",
     "output_type": "stream",
     "text": [
      "预测后的参数w:  tensor([[ 2.0007, -3.3989]])\n",
      "预测后的参数b:  tensor([4.1995])\n"
     ]
    }
   ],
   "source": [
    "print(f'预测后的参数w: ', net[0].weight.data)\n",
    "print(f'预测后的参数b: ', net[0].bias.data)"
   ]
  },
  {
   "cell_type": "code",
   "execution_count": null,
   "metadata": {},
   "outputs": [],
   "source": []
  }
 ],
 "metadata": {
  "kernelspec": {
   "display_name": "Python 3.10.6 64-bit",
   "language": "python",
   "name": "python3"
  },
  "language_info": {
   "codemirror_mode": {
    "name": "ipython",
    "version": 3
   },
   "file_extension": ".py",
   "mimetype": "text/x-python",
   "name": "python",
   "nbconvert_exporter": "python",
   "pygments_lexer": "ipython3",
   "version": "3.10.6"
  },
  "orig_nbformat": 4,
  "vscode": {
   "interpreter": {
    "hash": "615f2bc64d834d96908d844a686e951aa7993850d1defc534e0755cfeae37339"
   }
  }
 },
 "nbformat": 4,
 "nbformat_minor": 2
}
