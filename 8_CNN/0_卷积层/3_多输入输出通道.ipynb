{
 "cells": [
  {
   "cell_type": "code",
   "execution_count": null,
   "metadata": {},
   "outputs": [],
   "source": [
    "# def corr2d(X, K): # X：输入矩阵 K：核矩阵\n",
    "#     \"\"\"计算二维互相关运算\"\"\"\n",
    "#     h, w = K.shape # 行数对应着高度\n",
    "#     Y = torch.zeros(X.shape[0] - h + 1, X.shape[1] - w + 1)\n",
    "#     for i in range(Y.shape[0]):\n",
    "#         for j in range(Y.shape[1]):\n",
    "#             Y[i, j] = (X[i:i + h, j:j + w] * K).sum()  # 矩阵*矩阵 （亮点在于取大矩阵的一部分出来） \n",
    "#     return Y"
   ]
  },
  {
   "cell_type": "code",
   "execution_count": 1,
   "metadata": {},
   "outputs": [],
   "source": [
    "import torch\n",
    "from d2l import torch as d2l"
   ]
  },
  {
   "cell_type": "markdown",
   "metadata": {},
   "source": [
    "多输入通道互相关运算的实现（卷积）"
   ]
  },
  {
   "cell_type": "code",
   "execution_count": 2,
   "metadata": {},
   "outputs": [],
   "source": [
    "def corr2d_multi_in(X, K):  # X 3D; K 3D \n",
    "    \"\"\"计算多输入通道的卷积 即分别将各通道和各kernel二维卷积后求和\"\"\"\n",
    "    return sum(d2l.corr2d(x, k) for x, k in zip(X, K)) # zip将两个列表对应位置打包在一起"
   ]
  },
  {
   "cell_type": "markdown",
   "metadata": {},
   "source": [
    "多输出通道互相关运算的实现（卷积）"
   ]
  },
  {
   "cell_type": "code",
   "execution_count": null,
   "metadata": {},
   "outputs": [],
   "source": [
    "def corr2d_multi_out(X, K): # X 3D; K 4D\n",
    "    \"\"\"对4D的卷积核拿出每一个与X做多输入通道的卷积操作 然后将各个卷积核卷积的结果stack拼接起来\"\"\"\n",
    "    return torch.stack([corr2d_multi_in(X, k) for k in K], 0) # stack([(1,3), (1,3)], 0)结果是(2,1,3)"
   ]
  },
  {
   "cell_type": "code",
   "execution_count": null,
   "metadata": {},
   "outputs": [],
   "source": []
  }
 ],
 "metadata": {
  "kernelspec": {
   "display_name": "Python 3.10.7 64-bit",
   "language": "python",
   "name": "python3"
  },
  "language_info": {
   "codemirror_mode": {
    "name": "ipython",
    "version": 3
   },
   "file_extension": ".py",
   "mimetype": "text/x-python",
   "name": "python",
   "nbconvert_exporter": "python",
   "pygments_lexer": "ipython3",
   "version": "3.10.7"
  },
  "orig_nbformat": 4,
  "vscode": {
   "interpreter": {
    "hash": "52c95d02f1bfe7c59da35d3ff8fa76f7d162251a8bf0068369a0a87df4b3e5e7"
   }
  }
 },
 "nbformat": 4,
 "nbformat_minor": 2
}
