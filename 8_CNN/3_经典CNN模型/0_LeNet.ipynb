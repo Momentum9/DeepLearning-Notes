{
 "cells": [
  {
   "cell_type": "markdown",
   "metadata": {},
   "source": [
    "## LeNet-5 实现<br>\n",
    "由卷积编码器和全连接层密集快组成"
   ]
  },
  {
   "cell_type": "code",
   "execution_count": 26,
   "metadata": {},
   "outputs": [],
   "source": [
    "import torch\n",
    "from torch import nn\n",
    "from d2l import torch as d2l"
   ]
  },
  {
   "cell_type": "code",
   "execution_count": 27,
   "metadata": {},
   "outputs": [],
   "source": [
    "class Reshape(nn.Module):\n",
    "    def forward(self, x):\n",
    "        return x.reshape(-1, 1, 28, 28) # 本层就是将输入数据reshape成（批量大小，通道数，宽，高） 应该是这样\n",
    "\n",
    "net = nn.Sequential(\n",
    "    Reshape(), nn.Conv2d(in_channels=1, out_channels=6, kernel_size=5, padding=2), nn.Sigmoid(), # padding的原因是此处原图为28（不同于原始LeNet的32）\n",
    "    nn.AvgPool2d(kernel_size=2, stride=2),\n",
    "    nn.Conv2d(6, 16, kernel_size=5), nn.Sigmoid(),\n",
    "    nn.AvgPool2d(kernel_size=2, stride=2), nn.Flatten(), # 后续的全连接层的输入需要是一维的向量，故将4D->2D(保留了批的那一维)\n",
    "    nn.Linear(16 * 5 * 5, 120),  nn.Sigmoid(),\n",
    "    nn.Linear(120, 84), nn.Sigmoid(),\n",
    "    nn.Linear(84, 10)\n",
    ")"
   ]
  },
  {
   "cell_type": "code",
   "execution_count": 28,
   "metadata": {},
   "outputs": [
    {
     "name": "stdout",
     "output_type": "stream",
     "text": [
      "Reshape output shape:\t\t torch.Size([1, 1, 28, 28])\n",
      "Conv2d output shape:\t\t torch.Size([1, 6, 28, 28])\n",
      "Sigmoid output shape:\t\t torch.Size([1, 6, 28, 28])\n",
      "AvgPool2d output shape:\t\t torch.Size([1, 6, 14, 14])\n",
      "Conv2d output shape:\t\t torch.Size([1, 16, 10, 10])\n",
      "Sigmoid output shape:\t\t torch.Size([1, 16, 10, 10])\n",
      "AvgPool2d output shape:\t\t torch.Size([1, 16, 5, 5])\n",
      "Flatten output shape:\t\t torch.Size([1, 400])\n",
      "Linear output shape:\t\t torch.Size([1, 120])\n",
      "Sigmoid output shape:\t\t torch.Size([1, 120])\n",
      "Linear output shape:\t\t torch.Size([1, 84])\n",
      "Sigmoid output shape:\t\t torch.Size([1, 84])\n",
      "Linear output shape:\t\t torch.Size([1, 10])\n"
     ]
    },
    {
     "data": {
      "text/plain": [
       "' >>> 第一个维度都是批量大小\\n第一层将通道数增加到6\\n'"
      ]
     },
     "execution_count": 28,
     "metadata": {},
     "output_type": "execute_result"
    }
   ],
   "source": [
    "X = torch.rand(size=(1, 1, 28, 28), dtype=torch.float32)\n",
    "for layer in net:\n",
    "    X = layer(X)\n",
    "    print(layer.__class__.__name__, 'output shape:\\t\\t', X.shape)\n",
    "\n",
    "\"\"\" >>> 第一个维度都是批量大小\n",
    "第一层将通道数增加到6\n",
    "第二层将28池化为14\n",
    "第三层将通道数增加到16\n",
    "第四层将10池化到5\n",
    "第五层全连接层（不同于LeNet-5中的卷积层？）\n",
    "\n",
    "\"\"\""
   ]
  },
  {
   "cell_type": "markdown",
   "metadata": {},
   "source": [
    "## LeNet在Fashion-MNIST上的表现"
   ]
  },
  {
   "cell_type": "code",
   "execution_count": 35,
   "metadata": {},
   "outputs": [],
   "source": [
    "batch_size = 256\n",
    "train_iter, test_iter = d2l.load_data_fashion_mnist(batch_size)"
   ]
  },
  {
   "cell_type": "code",
   "execution_count": null,
   "metadata": {},
   "outputs": [],
   "source": [
    "def evalute_accuracy_gpu(net, data_iter, device=None):\n",
    "    \"\"\"使用GPU计算模型在数据集上的精度\"\"\"\n",
    "    if isinstance(net, torch.nn.Module):\n",
    "        net.eval()\n",
    "        if not device:\n",
    "            device = next(iter(net.parameters())).device\n",
    "    \n",
    "    metric = d2l.Accumulator(2)\n",
    "    for X, y in data_iter:\n",
    "        if isinstance(X, list):\n",
    "            "
   ]
  }
 ],
 "metadata": {
  "kernelspec": {
   "display_name": "Python 3.10.7 64-bit",
   "language": "python",
   "name": "python3"
  },
  "language_info": {
   "codemirror_mode": {
    "name": "ipython",
    "version": 3
   },
   "file_extension": ".py",
   "mimetype": "text/x-python",
   "name": "python",
   "nbconvert_exporter": "python",
   "pygments_lexer": "ipython3",
   "version": "3.10.7"
  },
  "orig_nbformat": 4,
  "vscode": {
   "interpreter": {
    "hash": "52c95d02f1bfe7c59da35d3ff8fa76f7d162251a8bf0068369a0a87df4b3e5e7"
   }
  }
 },
 "nbformat": 4,
 "nbformat_minor": 2
}
