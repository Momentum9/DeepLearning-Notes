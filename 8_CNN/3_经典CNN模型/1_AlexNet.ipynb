{
 "cells": [
  {
   "cell_type": "code",
   "execution_count": 1,
   "metadata": {},
   "outputs": [],
   "source": [
    "import torch \n",
    "from torch import nn\n",
    "from d2l import torch as d2l"
   ]
  },
  {
   "cell_type": "code",
   "execution_count": 2,
   "metadata": {},
   "outputs": [],
   "source": [
    "net = nn.Sequential(\n",
    "    nn.Conv2d(in_channels=1, out_channels=96, kernel_size=11, stride=4, padding=1),  nn.ReLU(),  # 此处数据集为Fashion-MNIST，故in_channels=1\n",
    "    nn.MaxPool2d(kernel_size=3, stride=2),\n",
    "    nn.Conv2d(in_channels=96, out_channels=256, kernel_size=5, padding=2), nn.ReLU(),\n",
    "    nn.MaxPool2d(kernel_size=3, stride=2),\n",
    "    nn.Conv2d(256, 384, kernel_size=3, padding=1), nn.ReLU(),\n",
    "    nn.Conv2d(384, 384, kernel_size=3, padding=1), nn.ReLU(),\n",
    "    nn.Conv2d(384, 256, kernel_size=3, padding=1), nn.ReLU(),\n",
    "    nn.MaxPool2d(kernel_size=3, stride=2), nn.Flatten(),\n",
    "    nn.Linear(6400, 4096), nn.ReLU(), nn.Dropout(p=0.5), # 注意AlexNet前两个全连接层有丢弃层\n",
    "    # 上面这个6400可以通过下一个框中打印shape推导出来； 5*5*256=6400 （5*5通过打印可知）\n",
    "    nn.Linear(4096, 4096), nn.ReLU(), nn.Dropout(p=0.5),\n",
    "    nn.Linear(4096, 10)  # F-MNIST输出10类\n",
    ")"
   ]
  },
  {
   "cell_type": "code",
   "execution_count": 3,
   "metadata": {},
   "outputs": [
    {
     "name": "stdout",
     "output_type": "stream",
     "text": [
      "Conv2d output shape:\t\t torch.Size([1, 96, 54, 54])\n",
      "ReLU output shape:\t\t torch.Size([1, 96, 54, 54])\n",
      "MaxPool2d output shape:\t\t torch.Size([1, 96, 26, 26])\n",
      "Conv2d output shape:\t\t torch.Size([1, 256, 26, 26])\n",
      "ReLU output shape:\t\t torch.Size([1, 256, 26, 26])\n",
      "MaxPool2d output shape:\t\t torch.Size([1, 256, 12, 12])\n",
      "Conv2d output shape:\t\t torch.Size([1, 384, 12, 12])\n",
      "ReLU output shape:\t\t torch.Size([1, 384, 12, 12])\n",
      "Conv2d output shape:\t\t torch.Size([1, 384, 12, 12])\n",
      "ReLU output shape:\t\t torch.Size([1, 384, 12, 12])\n",
      "Conv2d output shape:\t\t torch.Size([1, 256, 12, 12])\n",
      "ReLU output shape:\t\t torch.Size([1, 256, 12, 12])\n",
      "MaxPool2d output shape:\t\t torch.Size([1, 256, 5, 5])\n",
      "Flatten output shape:\t\t torch.Size([1, 6400])\n",
      "Linear output shape:\t\t torch.Size([1, 4096])\n",
      "ReLU output shape:\t\t torch.Size([1, 4096])\n",
      "Dropout output shape:\t\t torch.Size([1, 4096])\n",
      "Linear output shape:\t\t torch.Size([1, 4096])\n",
      "ReLU output shape:\t\t torch.Size([1, 4096])\n",
      "Dropout output shape:\t\t torch.Size([1, 4096])\n",
      "Linear output shape:\t\t torch.Size([1, 10])\n"
     ]
    },
    {
     "data": {
      "text/plain": [
       "' \\n卷积(225+2-11)/4+1 = 54\\n池化(54-3)/2+1 = 26\\n卷积(26+4-5)/1 +1 = 26\\n池化(26-3)/2+1 = 12\\n卷积(12+2-3)/1+1 = 12\\n卷积12\\n卷积12\\n池化(12-3)/2+1 = 5\\n全连接(5*5*256) -> 4096\\n全连接4096 -> 4096\\n全连接4096 -> 10\\n'"
      ]
     },
     "execution_count": 3,
     "metadata": {},
     "output_type": "execute_result"
    }
   ],
   "source": [
    "X = torch.randn(size=(1, 1, 224, 224))\n",
    "for layer in net:\n",
    "    X = layer(X)\n",
    "    print(layer.__class__.__name__, 'output shape:\\t\\t', X.shape)\n",
    "\n",
    "\"\"\" \n",
    "卷积(225+2-11)/4+1 = 54\n",
    "池化(54-3)/2+1 = 26\n",
    "卷积(26+4-5)/1 +1 = 26\n",
    "池化(26-3)/2+1 = 12\n",
    "卷积(12+2-3)/1+1 = 12\n",
    "卷积12\n",
    "卷积12\n",
    "池化(12-3)/2+1 = 5\n",
    "全连接(5*5*256) -> 4096\n",
    "全连接4096 -> 4096\n",
    "全连接4096 -> 10\n",
    "\"\"\""
   ]
  },
  {
   "cell_type": "markdown",
   "metadata": {},
   "source": [
    "F-MNIST图像是28*28分辨率，为了模拟ImageNet，将其拉伸为 224 * 224 (仅作尝试)"
   ]
  },
  {
   "cell_type": "code",
   "execution_count": null,
   "metadata": {},
   "outputs": [],
   "source": [
    "batch_size = 256\n",
    "train_iter, test_iter = d2l.load_data_fashion_mnist(batch_size, resize=224)\n",
    "lr, num_epochs = 0.1, 10\n",
    "d2l.train_ch6(net, train_iter, test_iter, num_epochs, lr, d2l.try_gpu())"
   ]
  },
  {
   "cell_type": "code",
   "execution_count": null,
   "metadata": {},
   "outputs": [],
   "source": []
  }
 ],
 "metadata": {
  "kernelspec": {
   "display_name": "Python 3.10.7 64-bit",
   "language": "python",
   "name": "python3"
  },
  "language_info": {
   "codemirror_mode": {
    "name": "ipython",
    "version": 3
   },
   "file_extension": ".py",
   "mimetype": "text/x-python",
   "name": "python",
   "nbconvert_exporter": "python",
   "pygments_lexer": "ipython3",
   "version": "3.10.7"
  },
  "orig_nbformat": 4,
  "vscode": {
   "interpreter": {
    "hash": "52c95d02f1bfe7c59da35d3ff8fa76f7d162251a8bf0068369a0a87df4b3e5e7"
   }
  }
 },
 "nbformat": 4,
 "nbformat_minor": 2
}
